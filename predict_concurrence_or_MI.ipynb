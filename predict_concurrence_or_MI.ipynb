{
 "cells": [
  {
   "cell_type": "markdown",
   "metadata": {},
   "source": [
    "# Predict the concurrence or the mutual information for whatever two-qubit quantum state you want"
   ]
  },
  {
   "cell_type": "code",
   "execution_count": 1,
   "metadata": {},
   "outputs": [],
   "source": [
    "\"\"\"DNNs will run on GPU if enabled\"\"\"\n",
    "import os\n",
    "os.environ[\"CUDA_DEVICE_ORDER\"] = \"PCI_BUS_ID\"\n",
    "os.environ[\"CUDA_VISIBLE_DEVICES\"] = \"\""
   ]
  },
  {
   "cell_type": "code",
   "execution_count": 2,
   "metadata": {},
   "outputs": [],
   "source": [
    "from numpy import *\n",
    "from numpy import linalg as la\n",
    "from scipy import linalg as sa"
   ]
  },
  {
   "cell_type": "code",
   "execution_count": 3,
   "metadata": {},
   "outputs": [],
   "source": [
    "import keras\n",
    "from keras import optimizers\n",
    "from keras import initializers\n",
    "from keras.models import Sequential\n",
    "from tensorflow.keras.models import load_model\n",
    "from keras.layers import Dense, Dropout, Activation, Conv1D, Flatten, Reshape, AveragePooling1D,UpSampling1D\n",
    "from keras.callbacks import ReduceLROnPlateau, ModelCheckpoint"
   ]
  },
  {
   "cell_type": "code",
   "execution_count": 4,
   "metadata": {},
   "outputs": [],
   "source": [
    "\"\"\"generate a rank-r quantum state\"\"\"\n",
    "\n",
    "def randomHaarState(dim,rank):\n",
    "    A = random.normal(0,1,(dim,dim))+1j*random.normal(0,1,(dim,dim))\n",
    "    q,r = la.qr(A,mode='complete')\n",
    "    r  = divide(diagonal(r),abs(diagonal(r)))*identity(dim)\n",
    "    rU = q@r\n",
    "    B = random.normal(0,1,(dim,rank))+1j*random.normal(0,1,(dim,rank))\n",
    "    B = B@B.T.conj()\n",
    "    rho = (identity(dim)+rU)@B@(identity(dim)+rU.T.conj())\n",
    "    return rho/trace(rho)\n",
    "\n",
    "\"\"\"generate a random Haar pure state\"\"\"\n",
    "def randompure(dim,n):\n",
    "    rpure = random.normal(0,1,[dim,n]) + 1j*random.normal(0,1,[dim,n])\n",
    "    rpure = rpure/la.norm(rpure,axis=0)\n",
    "    rhon = array([dot(rpure[:,[i]],rpure[:,[i]].conjugate().transpose())  for i in range(n)])\n",
    "#     rhon = reshape(rhon,[n,4])\n",
    "    return rhon\n",
    "\n",
    "\"\"\"1-qubit Pauli projectors\"\"\"\n",
    "def mubpom():\n",
    "    p1 = array([1,0])\n",
    "    p2 = array([0,1])\n",
    "    mub = zeros([6,1,2])+1j*zeros([6,1,2])\n",
    "    mub[0] = p1\n",
    "    mub[1] = p2\n",
    "    mub[2] = 1/sqrt(2)*(p1+p2)\n",
    "    mub[3] = 1/sqrt(2)*(p1-p2)\n",
    "    mub[4] = 1/sqrt(2)*(p1+1j*p2)\n",
    "    mub[5] = 1/sqrt(2)*(p1-1j*p2)\n",
    "    mubp = [transpose(mub[i])@conjugate(mub[i]) for i in range(6)]\n",
    "    return mubp\n",
    "\n",
    "def mubpom1():\n",
    "    p1 = array([1,0])\n",
    "    p2 = array([0,1])\n",
    "    mub = zeros([4,1,2])+1j*zeros([4,1,2])\n",
    "    mub[0] = p1\n",
    "    mub[1] = p2\n",
    "    mub[2] = 1/sqrt(2)*(p1+p2)\n",
    "    mub[3] = 1/sqrt(2)*(p1+1j*p2)\n",
    "    mubp = [transpose(mub[i])@conjugate(mub[i]) for i in range(4)]\n",
    "    return mubp\n",
    "\n",
    "def blochFromRho(rho,A):\n",
    "    l = shape(A)[0]\n",
    "    return array([ real(trace(rho@A[n])) for n in range(l) ])\n",
    "\n",
    "\"\"\"get probabilities from quantum state rho0 and POVM\"\"\"\n",
    "def probdists(rho0,povm):\n",
    "    l = shape(povm)[0]\n",
    "    probtrue = array([real(trace(rho0@povm[i])) for i in range(l)])\n",
    "    probtrue = probtrue/sum(probtrue)\n",
    "    return probtrue\n",
    "\n",
    "def herbasis(dim):\n",
    "    pom1 = zeros([1,dim,dim])+1j*zeros([1,dim,dim])\n",
    "    pom1[0] = identity(dim)\n",
    "    arrays = [dot(transpose(pom1[0][[i]]),pom1[0][[i]]) for i in range(dim-1)]\n",
    "    pom = stack(arrays,axis=0)\n",
    "    her = concatenate((pom1,pom),axis=0)\n",
    "    arrays = [dot(transpose(her[0][[i]]),her[0][[j]])+dot(transpose(her[0][[j]]),her[0][[i]]) for i in range(dim) for j in range(i+1,dim)]\n",
    "    pom = stack(arrays,axis=0)\n",
    "    her = concatenate((her,pom),axis=0)\n",
    "    arrays = [-1j*dot(transpose(her[0][[i]]),her[0][[j]])+1j*dot(transpose(her[0][[j]]),her[0][[i]]) for i in range(dim) for j in range(i+1,dim)]\n",
    "    pom = stack(arrays,axis=0)\n",
    "    pom = concatenate((her,pom),axis=0)\n",
    "    return pom\n",
    "\n",
    "def gellmann(Q,dim):\n",
    "    q = zeros([dim**2,dim,dim])+1j*zeros([dim**2,dim,dim])\n",
    "    for i in range(dim**2):\n",
    "        v = Q[i]\n",
    "        for j in range(0,i):\n",
    "            v = v-trace(v@q[j])*q[j]\n",
    "        q[i] = v/sqrt(trace(v@v))\n",
    "    return q\n",
    "\n",
    "def pauli():\n",
    "    s = zeros([3,2,2]) +1j*zeros([3,2,2])\n",
    "    s[0] = array([[1, 0],[0, -1]])\n",
    "    s[1] = array([[0, 1],[ 1, 0]])\n",
    "    s[2] = array([[0, -1j],[1j, 0]])\n",
    "    return s\n",
    "\n",
    "\"\"\"concurrence\"\"\"\n",
    "def conc(A):\n",
    "    s = pauli()\n",
    "    s2 = kron(s[2],s[2])\n",
    "    At = (s2@conjugate(A))@s2\n",
    "    As = sa.sqrtm(A)\n",
    "    R = sa.sqrtm((As@At)@As)\n",
    "    eigval = real(sort(la.eig(R)[0])[::-1])\n",
    "    return max(0,eigval[0]-(eigval[1]+eigval[2]+eigval[3]))\n",
    "\n",
    "def parTrB(rho):\n",
    "    rhoN = zeros([2,2])+1j*zeros([2,2])\n",
    "    rhoN[0,0]=rho[0,0]+rho[1,1]\n",
    "    rhoN[0,1]=rho[0,2]+rho[1,3]\n",
    "    rhoN[1,0]=rho[2,0]+rho[3,1]\n",
    "    rhoN[1,1]=rho[2,2]+rho[3,3]\n",
    "    return rhoN\n",
    "\n",
    "def parTrA(rho):\n",
    "    rhoN = zeros([2,2])+1j*zeros([2,2])\n",
    "    rhoN[0,0]=rho[0,0]+rho[2,2]\n",
    "    rhoN[0,1]=rho[0,1]+rho[2,3]\n",
    "    rhoN[1,0]=rho[1,0]+rho[3,2]\n",
    "    rhoN[1,1]=rho[1,1]+rho[3,3]\n",
    "    return rhoN\n",
    "\n",
    "\"\"\"two-qubit mutual information\"\"\"\n",
    "def mutInf2q(rho):\n",
    "    rA = parTrB(rho)\n",
    "    rB = parTrA(rho)\n",
    "    return real( 1/2*(-trace(rA@myLog(rA))-trace(rB@myLog(rB)) + trace(rho@myLog(rho))) )\n",
    "\n",
    "def myLog(M):\n",
    "    U,S,VT = la.svd(M)\n",
    "    for n in range(shape(S)[0]):\n",
    "        if S[n]<10**(-14):\n",
    "            S[n] = 1\n",
    "    D = diag(log2(S))\n",
    "    return (U@D)@VT\n",
    "\n",
    "\"\"\"regularized MaxLik algorithm\"\"\"\n",
    "def MLalg(data, rhoinit,povm,epsilon,stop):\n",
    "    rho = rhoinit\n",
    "    trdist = 1\n",
    "    k = 0\n",
    "    pomS = zeros([4,4], complex)\n",
    "    for n in range(shape(povm)[0]): pomS = pomS + povm[n]\n",
    "    Gop = sa.pinv(sa.fractional_matrix_power(pomS,1/2))\n",
    "    while trdist > epsilon and k<stop:\n",
    "        R = zeros([4,4], complex)\n",
    "        prob = probdists(rho,povm)\n",
    "        for i in range(shape(povm)[0]):\n",
    "            if data[i]>10**(-10):\n",
    "                R += data[i]/prob[i]*povm[i]\n",
    "        rhonew = dot(dot(Gop,dot(R,rho)),dot(R,Gop))\n",
    "        rhonew = rhonew/trace(rhonew)\n",
    "        trdist = trace(dot((rho-rhonew),(rho-rhonew)))\n",
    "        rho = rhonew\n",
    "        k+=1\n",
    "    return rho\n"
   ]
  },
  {
   "cell_type": "code",
   "execution_count": 5,
   "metadata": {},
   "outputs": [],
   "source": [
    "\"\"\"define the basis in the n-dimensional Hilbert space\"\"\"\n",
    "dim = 4\n",
    "noStates = 1\n",
    "nProj = 36\n",
    "Q = herbasis(dim)\n",
    "GAll = gellmann(Q,dim)*sqrt(dim)\n",
    "G = GAll[1::]"
   ]
  },
  {
   "cell_type": "code",
   "execution_count": 6,
   "metadata": {},
   "outputs": [],
   "source": [
    "\"\"\"define Pauli projectors for two-qubit system\"\"\"\n",
    "mub = mubpom()\n",
    "mub2 = array([kron(mub[i],mub[j])/9 for i in range(6) for j in range(6) ])\n",
    "\n",
    "blochFromPOMs = array([ blochFromRho(mub2[m],GAll) for m in range(nProj) ])"
   ]
  },
  {
   "cell_type": "code",
   "execution_count": 7,
   "metadata": {},
   "outputs": [
    {
     "name": "stdout",
     "output_type": "stream",
     "text": [
      "0.7006611682219508\n",
      "0.5926949242315412\n",
      "(0.9999999999999997+0j)\n"
     ]
    }
   ],
   "source": [
    "\"\"\"generate a random pure two-qubit state\"\"\"\n",
    "rhoT = randompure(dim,noStates);\n",
    "\n",
    "# p = 0.8\n",
    "# rhoT = [p*kron(randompure(2,1)[0],randompure(2,1)[0])+(1-p)/4*identity(dim)]\n",
    "\n",
    "\n",
    "\n",
    "\"\"\"add some noise if you want\"\"\"\n",
    "p = 1\n",
    "rhoT = p*rhoT + (1-p)/4*identity(dim)\n",
    "\n",
    "\"\"\"generate a random rank-r state with respect to the Bures measure\"\"\"\n",
    "# rank = 1\n",
    "# rhoT = randomHaarState(dim,dim)\n",
    "\n",
    "\"\"\"calculate the full probability distribution\"\"\"\n",
    "probList = probdists(rhoT[0],mub2)\n",
    "\n",
    "\"\"\"check the true value of the concurrence and the mutual information\"\"\"\n",
    "print(conc(rhoT[0]))\n",
    "print(mutInf2q(rhoT[0]))\n",
    "print(trace(rhoT[0]@rhoT[0]))"
   ]
  },
  {
   "cell_type": "markdown",
   "metadata": {},
   "source": [
    "# Measurement-specific strategy"
   ]
  },
  {
   "cell_type": "code",
   "execution_count": 8,
   "metadata": {},
   "outputs": [],
   "source": [
    "\"\"\"load trained measurement-specific DNNs\"\"\"\n",
    "nProjAll = 19\n",
    "pom = array(range(1,nProjAll))\n",
    "\n",
    "\"\"\"Each model is trained for the specific set of projector,\n",
    "we trained DNNs for five different sets, load one of them, nR = 0,1,2,3,4\"\"\"\n",
    "nR = 0\n",
    "\n",
    "\"\"\"choose the number of measurement settings, from 2 to 36, only even numbers\"\"\"\n",
    "nMeasSettings = 18\n",
    "\n",
    "file1 = load(\"spec_pauli_projections/PauliR\"+str(nR)+str(nMeasSettings)+\".npz\")\n",
    "mub3 = file1['mub3']\n",
    "\n",
    "\"\"\"definition of the vocabulary of measurement-specific models\"\"\"\n",
    "dictModelSpecificConcurrence={}\n",
    "for k in pom:\n",
    "    dictModelSpecificConcurrence[str(k)]=\"spec_net_conc_R\"+str(nR)+\"/bestModelPauliConcProjR\"+str(nR)+\"v7\"+str(2*k)\n",
    "    \n",
    "dictModelSpecificMutualInfo={}\n",
    "for k in pom:\n",
    "    dictModelSpecificMutualInfo[str(k)]=\"spec_net_MI_R0/bestModelPauliMIProjR0v6\"+str(2*k)    \n"
   ]
  },
  {
   "cell_type": "code",
   "execution_count": 9,
   "metadata": {},
   "outputs": [],
   "source": [
    "\"\"\"get the data\"\"\"\n",
    "probListSpec = reshape(probdists(rhoT[0],mub3),(1,nMeasSettings))"
   ]
  },
  {
   "cell_type": "code",
   "execution_count": 10,
   "metadata": {
    "scrolled": true
   },
   "outputs": [],
   "source": [
    "\"\"\"load models\"\"\"\n",
    "modelSpecificConcurrence = load_model(dictModelSpecificConcurrence[str(int(nMeasSettings/2))]+'.h5')\n",
    "\n",
    "modelSpecificMutualInfo = load_model(dictModelSpecificMutualInfo[str(int(nMeasSettings/2))]+'.h5')"
   ]
  },
  {
   "cell_type": "code",
   "execution_count": 11,
   "metadata": {},
   "outputs": [],
   "source": [
    "\"\"\"estimation of the concurrence\"\"\"\n",
    "modelSpecificPredictionConcurrence = modelSpecificConcurrence.predict(probListSpec)\n",
    "\n",
    "\"\"\"estimation of the mutual info.\"\"\"\n",
    "modelSpecificPredictionMutualInfo = modelSpecificMutualInfo.predict(probListSpec)"
   ]
  },
  {
   "cell_type": "code",
   "execution_count": 12,
   "metadata": {},
   "outputs": [],
   "source": [
    "\"\"\"MaxLik predictions\"\"\"\n",
    "rhoML = MLalg(probListSpec[0],identity(4)/4,mub3,10**(-14),100000)\n",
    "\n",
    "mlPredictedConcurrenceSpecificProjs = conc(rhoML)\n",
    "\n",
    "mlPredictedMutualInfoSpecificProjs = mutInf2q(rhoML)"
   ]
  },
  {
   "cell_type": "code",
   "execution_count": 13,
   "metadata": {},
   "outputs": [
    {
     "name": "stdout",
     "output_type": "stream",
     "text": [
      "true value of the concurrence: 0.7006611682219508\n",
      "measurement-specific DNN prediction of the concurrence based on 18 projections: 0.69630015\n",
      "MaxLik prediction of the concurrence: 0.4739079266508104\n"
     ]
    }
   ],
   "source": [
    "print(\"true value of the concurrence:\", conc(rhoT[0]))\n",
    "print(\"measurement-specific DNN prediction of the concurrence based on \"+str(nMeasSettings)+\" projections:\", modelSpecificPredictionConcurrence[0,0])\n",
    "print(\"MaxLik prediction of the concurrence:\", mlPredictedConcurrenceSpecificProjs)"
   ]
  },
  {
   "cell_type": "code",
   "execution_count": 14,
   "metadata": {},
   "outputs": [
    {
     "name": "stdout",
     "output_type": "stream",
     "text": [
      "true value of the mutual info.: 0.5926949242315412\n",
      "measurement-specific DNN prediction of the mutual info. based on 18 projections: 0.5850143\n",
      "MaxLik prediction of the mutual info.: 0.3053876358165032\n"
     ]
    }
   ],
   "source": [
    "print(\"true value of the mutual info.:\", mutInf2q(rhoT[0]))\n",
    "print(\"measurement-specific DNN prediction of the mutual info. based on \"+str(nMeasSettings)+\" projections:\", modelSpecificPredictionMutualInfo[0,0])\n",
    "print(\"MaxLik prediction of the mutual info.:\", mlPredictedMutualInfoSpecificProjs)"
   ]
  },
  {
   "cell_type": "markdown",
   "metadata": {},
   "source": [
    "# Measurement-independent DNN strategy"
   ]
  },
  {
   "cell_type": "code",
   "execution_count": 15,
   "metadata": {},
   "outputs": [],
   "source": [
    "\"\"\"load measurement-independent DNN that predicts concurrence\"\"\"\n",
    "modelConcurrence = load_model('modelConcurrence.h5',compile = False)\n",
    "modelMutualInfo = load_model('modelMI.h5',compile = False)"
   ]
  },
  {
   "cell_type": "markdown",
   "metadata": {},
   "source": [
    "## informationally complete data"
   ]
  },
  {
   "cell_type": "code",
   "execution_count": 16,
   "metadata": {},
   "outputs": [],
   "source": [
    "\"\"\"data preparation for the input layer of the measurement-independent DNN\"\"\"\n",
    "x_test = zeros([int(noStates),17*nProj,1])\n",
    "\n",
    "for i in range(nProj):\n",
    "    x_test[0,i*17:i*17+16,0] = blochFromPOMs[i]\n",
    "    x_test[0,16*(i+1)+i,0] = probList[i]\n",
    "\n",
    "modelPredictionConcurrence = modelConcurrence.predict(x = x_test)\n",
    "modelPredictionMutualInfo = modelMutualInfo.predict(x = x_test)"
   ]
  },
  {
   "cell_type": "code",
   "execution_count": 17,
   "metadata": {},
   "outputs": [],
   "source": [
    "\"\"\"MaxLik prediction\"\"\"\n",
    "rhoML = MLalg(probList,identity(4)/4,mub2,10**(-14),100000)\n",
    "mlPredictedConcurrenceComplete = conc(rhoML)\n",
    "mlPredictedMutualInfoComplete = mutInf2q(rhoML)"
   ]
  },
  {
   "cell_type": "code",
   "execution_count": 18,
   "metadata": {},
   "outputs": [
    {
     "name": "stdout",
     "output_type": "stream",
     "text": [
      "true value of the concurrence: 0.7006611682219508\n",
      "measurement-independent DNN prediction of the concurrence: 0.6901124\n",
      "MaxLik prediction of the concurrence: 0.7003568144602577\n"
     ]
    }
   ],
   "source": [
    "print(\"true value of the concurrence:\", conc(rhoT[0]))\n",
    "print(\"measurement-independent DNN prediction of the concurrence:\", modelPredictionConcurrence[0,0])\n",
    "print(\"MaxLik prediction of the concurrence:\", mlPredictedConcurrenceComplete)"
   ]
  },
  {
   "cell_type": "code",
   "execution_count": 19,
   "metadata": {},
   "outputs": [
    {
     "name": "stdout",
     "output_type": "stream",
     "text": [
      "true value of the mutual info.: 0.5926949242315412\n",
      "measurement-independent DNN prediction of the mutual info.: 0.58023375\n",
      "MaxLik prediction of the mutual info.: 0.5916158897423192\n"
     ]
    }
   ],
   "source": [
    "print(\"true value of the mutual info.:\", mutInf2q(rhoT[0]))\n",
    "print(\"measurement-independent DNN prediction of the mutual info.:\", modelPredictionMutualInfo[0,0])\n",
    "print(\"MaxLik prediction of the mutual info.:\", mlPredictedMutualInfoComplete)"
   ]
  },
  {
   "cell_type": "markdown",
   "metadata": {},
   "source": [
    "## Informationaly incomplete data"
   ]
  },
  {
   "cell_type": "code",
   "execution_count": 20,
   "metadata": {},
   "outputs": [],
   "source": [
    "\"\"\"pick at random, which tuples of projections will be measured to estimate the concurrence\"\"\"\n",
    "\"\"\"nExc -> number of excluded projectors\"\"\"\n",
    "nExc = 18\n",
    "\n",
    "pomS = ones((36),dtype=int)\n",
    "mub2Exc = mub2\n",
    "probListExc = probList\n",
    "\"\"\"pick at random which projectors will be excluded and replace respective probabilities\n",
    "and measurement describtion with zeros\"\"\"\n",
    "myList=list(range(36))\n",
    "random.shuffle(myList)\n",
    "for i in myList[0:nExc]:\n",
    "    mub2Exc[i] = zeros([4,4],complex)\n",
    "    probListExc[i] = 0\n",
    "\n",
    "blochFromPOMsExc = array([ blochFromRho(mub2Exc[m],GAll) for m in range(nProj) ])\n",
    "\n",
    "\"\"\"We always normalize data before feeding them to the networks\"\"\"\n",
    "probListExcP = probListExc/sum(probListExc)\n",
    "\n",
    "x_test_exc = zeros([int(noStates),17*nProj,1])\n",
    "\n",
    "for i in range(nProj):\n",
    "    x_test_exc[0,i*17:i*17+16,0] = blochFromPOMsExc[i]\n",
    "    x_test_exc[0,16*(i+1)+i,0] = probListExcP[i]\n",
    "    \n",
    "modelPredictionConcurrenceIncomplete = modelConcurrence.predict(x = x_test_exc)\n",
    "modelPredictionMutualInfoIncomplete = modelMutualInfo.predict(x = x_test_exc)"
   ]
  },
  {
   "cell_type": "code",
   "execution_count": 21,
   "metadata": {},
   "outputs": [],
   "source": [
    "rhoML = MLalg(probListExcP,identity(4)/4,mub2Exc,10**(-14),100000)\n",
    "mlPredictedConcurrenceIncomplete = conc(rhoML)\n",
    "mlPredictedMutualInfoInComplete = mutInf2q(rhoML)"
   ]
  },
  {
   "cell_type": "code",
   "execution_count": 22,
   "metadata": {},
   "outputs": [
    {
     "name": "stdout",
     "output_type": "stream",
     "text": [
      "true value of the concurrence: 0.7006611682219508\n",
      "measurement-independent DNN prediction of the concurrence with 18 projections missing : 0.28528163\n",
      "MaxLik prediction of the concurrence with 18 projections missing : 0.16190822320468412\n"
     ]
    }
   ],
   "source": [
    "print(\"true value of the concurrence:\", conc(rhoT[0]))\n",
    "print(\"measurement-independent DNN prediction of the concurrence with \"+str(nExc)+\" projections missing :\", modelPredictionConcurrenceIncomplete[0,0])\n",
    "print(\"MaxLik prediction of the concurrence with \"+str(nExc)+\" projections missing :\", mlPredictedConcurrenceIncomplete)"
   ]
  },
  {
   "cell_type": "code",
   "execution_count": 23,
   "metadata": {},
   "outputs": [
    {
     "name": "stdout",
     "output_type": "stream",
     "text": [
      "true value of the mutual info.: 0.5926949242315412\n",
      "measurement-independent DNN prediction of the mutual info. with 18 projections missing : 0.3156768\n",
      "MaxLik prediction of the mutual info. with 18 projections missing : 0.2760453323447879\n"
     ]
    }
   ],
   "source": [
    "print(\"true value of the mutual info.:\", mutInf2q(rhoT[0]))\n",
    "print(\"measurement-independent DNN prediction of the mutual info. with \"+str(nExc)+\" projections missing :\", modelPredictionMutualInfoIncomplete[0,0])\n",
    "print(\"MaxLik prediction of the mutual info. with \"+str(nExc)+\" projections missing :\", mlPredictedMutualInfoInComplete)"
   ]
  },
  {
   "cell_type": "code",
   "execution_count": 24,
   "metadata": {},
   "outputs": [],
   "source": [
    "# pp = [\"h\",\"v\",\"d\",\"a\",\"r\",\"l\"]\n",
    "# dictProjs = {}\n",
    "# for i in range(6):\n",
    "#     for j in range(6):\n",
    "#         dictProjs[pp[i]+pp[j]] = kron(mub[i],conjugate(mub[j]))\n",
    "        \n",
    "# mub1 = mubpom1()\n",
    "\n",
    "# pp1 = [\"h\",\"v\",\"d\",\"r\",]\n",
    "\n",
    "# sp1 = array([pp1[i]+pp1[j] for i in range(4) for j in range(4)])"
   ]
  },
  {
   "cell_type": "code",
   "execution_count": 442,
   "metadata": {},
   "outputs": [],
   "source": [
    "# specProjs = array([dictProjs['hh'],dictProjs['hv'],dictProjs['vh'],dictProjs['vv'],dictProjs['rh'],dictProjs['rv'],\n",
    "#           dictProjs['dv'],dictProjs['dh'],dictProjs['dr'],dictProjs['dd'],dictProjs['rd'],\n",
    "#            dictProjs['hd'],dictProjs['vd'],dictProjs['vl'],\n",
    "#           dictProjs['hl'],dictProjs['rl']])\n",
    "\n",
    "# specProjs1P = array([sp1[i] for i in range(16)])\n",
    "# specProjs1 = array([dictProjs[i] for i in specProjs1P])"
   ]
  }
 ],
 "metadata": {
  "kernelspec": {
   "display_name": "Python 3 (ipykernel)",
   "language": "python",
   "name": "python3"
  },
  "language_info": {
   "codemirror_mode": {
    "name": "ipython",
    "version": 3
   },
   "file_extension": ".py",
   "mimetype": "text/x-python",
   "name": "python",
   "nbconvert_exporter": "python",
   "pygments_lexer": "ipython3",
   "version": "3.9.12"
  }
 },
 "nbformat": 4,
 "nbformat_minor": 2
}

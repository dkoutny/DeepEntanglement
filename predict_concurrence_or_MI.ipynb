{
 "cells": [
  {
   "cell_type": "markdown",
   "metadata": {},
   "source": [
    "# Predict the concurrence or the mutual information for whatever two-qubit quantum state you want"
   ]
  },
  {
   "cell_type": "code",
   "execution_count": 1,
   "metadata": {},
   "outputs": [],
   "source": [
    "\"\"\"DNNs will run on GPU if enabled\"\"\"\n",
    "import os\n",
    "os.environ[\"CUDA_DEVICE_ORDER\"] = \"PCI_BUS_ID\"\n",
    "os.environ[\"CUDA_VISIBLE_DEVICES\"] = \"\""
   ]
  },
  {
   "cell_type": "code",
   "execution_count": 2,
   "metadata": {},
   "outputs": [],
   "source": [
    "from numpy import *\n",
    "from numpy import linalg as la\n",
    "from scipy import linalg as sa"
   ]
  },
  {
   "cell_type": "code",
   "execution_count": 3,
   "metadata": {},
   "outputs": [],
   "source": [
    "import keras\n",
    "from keras import optimizers\n",
    "from keras import initializers\n",
    "from keras.models import Sequential\n",
    "from tensorflow.keras.models import load_model\n",
    "from keras.layers import Dense, Dropout, Activation, Conv1D, Flatten, Reshape, AveragePooling1D,UpSampling1D\n",
    "from keras.callbacks import ReduceLROnPlateau, ModelCheckpoint"
   ]
  },
  {
   "cell_type": "code",
   "execution_count": 4,
   "metadata": {},
   "outputs": [],
   "source": [
    "\"\"\"generate a rank-r quantum state\"\"\"\n",
    "\n",
    "def randomHaarState(dim,rank):\n",
    "    A = random.normal(0,1,(dim,dim))+1j*random.normal(0,1,(dim,dim))\n",
    "    q,r = la.qr(A,mode='complete')\n",
    "    r  = divide(diagonal(r),abs(diagonal(r)))*identity(dim)\n",
    "    rU = q@r\n",
    "    B = random.normal(0,1,(dim,rank))+1j*random.normal(0,1,(dim,rank))\n",
    "    B = B@B.T.conj()\n",
    "    rho = (identity(dim)+rU)@B@(identity(dim)+rU.T.conj())\n",
    "    return rho/trace(rho)\n",
    "\n",
    "\"\"\"generate a random Haar pure state\"\"\"\n",
    "def randompure(dim,n):\n",
    "    rpure = random.normal(0,1,[dim,n]) + 1j*random.normal(0,1,[dim,n])\n",
    "    rpure = rpure/la.norm(rpure,axis=0)\n",
    "    rhon = array([dot(rpure[:,[i]],rpure[:,[i]].conjugate().transpose())  for i in range(n)])\n",
    "#     rhon = reshape(rhon,[n,4])\n",
    "    return rhon\n",
    "\n",
    "\"\"\"1-qubit Pauli projectors\"\"\"\n",
    "def mubpom():\n",
    "    p1 = array([1,0])\n",
    "    p2 = array([0,1])\n",
    "    mub = zeros([6,1,2])+1j*zeros([6,1,2])\n",
    "    mub[0] = p1\n",
    "    mub[1] = p2\n",
    "    mub[2] = 1/sqrt(2)*(p1+p2)\n",
    "    mub[3] = 1/sqrt(2)*(p1-p2)\n",
    "    mub[4] = 1/sqrt(2)*(p1+1j*p2)\n",
    "    mub[5] = 1/sqrt(2)*(p1-1j*p2)\n",
    "    mubp = [transpose(mub[i])@conjugate(mub[i]) for i in range(6)]\n",
    "    return mubp\n",
    "\n",
    "def mubpom1():\n",
    "    p1 = array([1,0])\n",
    "    p2 = array([0,1])\n",
    "    mub = zeros([4,1,2])+1j*zeros([4,1,2])\n",
    "    mub[0] = p1\n",
    "    mub[1] = p2\n",
    "    mub[2] = 1/sqrt(2)*(p1+p2)\n",
    "    mub[3] = 1/sqrt(2)*(p1+1j*p2)\n",
    "    mubp = [transpose(mub[i])@conjugate(mub[i]) for i in range(4)]\n",
    "    return mubp\n",
    "\n",
    "def blochFromRho(rho,A):\n",
    "    l = shape(A)[0]\n",
    "    return array([ real(trace(rho@A[n])) for n in range(l) ])\n",
    "\n",
    "\"\"\"get probabilities from quantum state rho0 and POVM\"\"\"\n",
    "def probdists(rho0,povm):\n",
    "    l = shape(povm)[0]\n",
    "    probtrue = array([real(trace(rho0@povm[i])) for i in range(l)])\n",
    "    probtrue = probtrue/sum(probtrue)\n",
    "    return probtrue\n",
    "\n",
    "def herbasis(dim):\n",
    "    pom1 = zeros([1,dim,dim])+1j*zeros([1,dim,dim])\n",
    "    pom1[0] = identity(dim)\n",
    "    arrays = [dot(transpose(pom1[0][[i]]),pom1[0][[i]]) for i in range(dim-1)]\n",
    "    pom = stack(arrays,axis=0)\n",
    "    her = concatenate((pom1,pom),axis=0)\n",
    "    arrays = [dot(transpose(her[0][[i]]),her[0][[j]])+dot(transpose(her[0][[j]]),her[0][[i]]) for i in range(dim) for j in range(i+1,dim)]\n",
    "    pom = stack(arrays,axis=0)\n",
    "    her = concatenate((her,pom),axis=0)\n",
    "    arrays = [-1j*dot(transpose(her[0][[i]]),her[0][[j]])+1j*dot(transpose(her[0][[j]]),her[0][[i]]) for i in range(dim) for j in range(i+1,dim)]\n",
    "    pom = stack(arrays,axis=0)\n",
    "    pom = concatenate((her,pom),axis=0)\n",
    "    return pom\n",
    "\n",
    "def gellmann(Q,dim):\n",
    "    q = zeros([dim**2,dim,dim])+1j*zeros([dim**2,dim,dim])\n",
    "    for i in range(dim**2):\n",
    "        v = Q[i]\n",
    "        for j in range(0,i):\n",
    "            v = v-trace(v@q[j])*q[j]\n",
    "        q[i] = v/sqrt(trace(v@v))\n",
    "    return q\n",
    "\n",
    "def pauli():\n",
    "    s = zeros([3,2,2]) +1j*zeros([3,2,2])\n",
    "    s[0] = array([[1, 0],[0, -1]])\n",
    "    s[1] = array([[0, 1],[ 1, 0]])\n",
    "    s[2] = array([[0, -1j],[1j, 0]])\n",
    "    return s\n",
    "\n",
    "\"\"\"concurrence\"\"\"\n",
    "def conc(A):\n",
    "    s = pauli()\n",
    "    s2 = kron(s[2],s[2])\n",
    "    At = (s2@conjugate(A))@s2\n",
    "    As = sa.sqrtm(A)\n",
    "    R = sa.sqrtm((As@At)@As)\n",
    "    eigval = real(sort(la.eig(R)[0])[::-1])\n",
    "    return max(0,eigval[0]-(eigval[1]+eigval[2]+eigval[3]))\n",
    "\n",
    "def parTrB(rho):\n",
    "    rhoN = zeros([2,2])+1j*zeros([2,2])\n",
    "    rhoN[0,0]=rho[0,0]+rho[1,1]\n",
    "    rhoN[0,1]=rho[0,2]+rho[1,3]\n",
    "    rhoN[1,0]=rho[2,0]+rho[3,1]\n",
    "    rhoN[1,1]=rho[2,2]+rho[3,3]\n",
    "    return rhoN\n",
    "\n",
    "def parTrA(rho):\n",
    "    rhoN = zeros([2,2])+1j*zeros([2,2])\n",
    "    rhoN[0,0]=rho[0,0]+rho[2,2]\n",
    "    rhoN[0,1]=rho[0,1]+rho[2,3]\n",
    "    rhoN[1,0]=rho[1,0]+rho[3,2]\n",
    "    rhoN[1,1]=rho[1,1]+rho[3,3]\n",
    "    return rhoN\n",
    "\n",
    "\"\"\"two-qubit mutual information\"\"\"\n",
    "def mutInf2q(rho):\n",
    "    rA = parTrB(rho)\n",
    "    rB = parTrA(rho)\n",
    "    return real( 1/2*(-trace(rA@myLog(rA))-trace(rB@myLog(rB)) + trace(rho@myLog(rho))) )\n",
    "\n",
    "def myLog(M):\n",
    "    U,S,VT = la.svd(M)\n",
    "    for n in range(shape(S)[0]):\n",
    "        if S[n]<10**(-14):\n",
    "            S[n] = 1\n",
    "    D = diag(log2(S))\n",
    "    return (U@D)@VT\n",
    "\n",
    "\"\"\"regularized MaxLik algorithm\"\"\"\n",
    "def MLalg(data, rhoinit,povm,epsilon,stop):\n",
    "    rho = rhoinit\n",
    "    trdist = 1\n",
    "    k = 0\n",
    "    pomS = zeros([4,4], complex)\n",
    "    for n in range(shape(povm)[0]): pomS = pomS + povm[n]\n",
    "    Gop = sa.pinv(sa.fractional_matrix_power(pomS,1/2))\n",
    "    while trdist > epsilon and k<stop:\n",
    "        R = zeros([4,4], complex)\n",
    "        prob = probdists(rho,povm)\n",
    "        for i in range(shape(povm)[0]):\n",
    "            if data[i]>10**(-10):\n",
    "                R += data[i]/prob[i]*povm[i]\n",
    "        rhonew = dot(dot(Gop,dot(R,rho)),dot(R,Gop))\n",
    "        rhonew = rhonew/trace(rhonew)\n",
    "        trdist = trace(dot((rho-rhonew),(rho-rhonew)))\n",
    "        rho = rhonew\n",
    "        k+=1\n",
    "    return rho\n"
   ]
  },
  {
   "cell_type": "code",
   "execution_count": 5,
   "metadata": {},
   "outputs": [],
   "source": [
    "\"\"\"define the basis in the n-dimensional Hilbert space\"\"\"\n",
    "dim = 4\n",
    "noStates = 1\n",
    "nProj = 36\n",
    "Q = herbasis(dim)\n",
    "GAll = gellmann(Q,dim)*sqrt(dim)\n",
    "G = GAll[1::]"
   ]
  },
  {
   "cell_type": "code",
   "execution_count": 6,
   "metadata": {},
   "outputs": [],
   "source": [
    "\"\"\"define Pauli projectors for two-qubit system\"\"\"\n",
    "mub = mubpom()\n",
    "mub2 = array([kron(mub[i],mub[j])/9 for i in range(6) for j in range(6) ])\n",
    "\n",
    "blochFromPOMs = array([ blochFromRho(mub2[m],GAll) for m in range(nProj) ])"
   ]
  },
  {
   "cell_type": "code",
   "execution_count": 7,
   "metadata": {},
   "outputs": [
    {
     "name": "stdout",
     "output_type": "stream",
     "text": [
      "0.8501952042874127\n",
      "0.7896211270437443\n",
      "(0.9999999999999998+0j)\n"
     ]
    }
   ],
   "source": [
    "\"\"\"generate a random pure two-qubit state\"\"\"\n",
    "rhoT = randompure(dim,noStates);\n",
    "\n",
    "# p = 0.8\n",
    "# rhoT = [p*kron(randompure(2,1)[0],randompure(2,1)[0])+(1-p)/4*identity(dim)]\n",
    "\n",
    "\n",
    "\n",
    "\"\"\"add some noise if you want\"\"\"\n",
    "p = 1\n",
    "rhoT = p*rhoT + (1-p)/4*identity(dim)\n",
    "\n",
    "\"\"\"generate a random rank-r state with respect to the Bures measure\"\"\"\n",
    "# rank = 1\n",
    "# rhoT = randomHaarState(dim,dim)\n",
    "\n",
    "\"\"\"calculate the full probability distribution\"\"\"\n",
    "probList = probdists(rhoT[0],mub2)\n",
    "\n",
    "\"\"\"check the true value of the concurrence and the mutual information\"\"\"\n",
    "print(conc(rhoT[0]))\n",
    "print(mutInf2q(rhoT[0]))\n",
    "print(trace(rhoT[0]@rhoT[0]))"
   ]
  },
  {
   "cell_type": "markdown",
   "metadata": {},
   "source": [
    "# Measurement-specific strategy"
   ]
  },
  {
   "cell_type": "code",
   "execution_count": 8,
   "metadata": {},
   "outputs": [],
   "source": [
    "\"\"\"load trained measurement-specific DNNs\"\"\"\n",
    "nProjAll = 19\n",
    "pom = array(range(1,nProjAll))\n",
    "\n",
    "\"\"\"Each model is trained for the specific set of projector,\n",
    "we trained DNNs for five different sets, load one of them, nR = 0,1,2,3,4\"\"\"\n",
    "nR = 0\n",
    "\n",
    "\"\"\"choose the number of measurement settings, from 2 to 36, only even numbers\"\"\"\n",
    "nMeasSettings = 18\n",
    "\n",
    "file1 = load(\"spec_pauli_projections/PauliR\"+str(nR)+str(nMeasSettings)+\".npz\")\n",
    "mub3 = file1['mub3']\n",
    "\n",
    "\"\"\"definition of the vocabulary of measurement-specific models\"\"\"\n",
    "dictModelSpecificConcurrence={}\n",
    "for k in pom:\n",
    "    dictModelSpecificConcurrence[str(k)]=\"DNNs/bestModelPauliConcProjR\"+str(nR)+\"v7\"+str(2*k)\n",
    "    \n",
    "dictModelSpecificMutualInfo={}\n",
    "for k in pom:\n",
    "    dictModelSpecificMutualInfo[str(k)]=\"DNNs/bestModelPauliMIProjR0v6\"+str(2*k)    \n"
   ]
  },
  {
   "cell_type": "code",
   "execution_count": 9,
   "metadata": {},
   "outputs": [],
   "source": [
    "\"\"\"get the data\"\"\"\n",
    "probListSpec = reshape(probdists(rhoT[0],mub3),(1,nMeasSettings))"
   ]
  },
  {
   "cell_type": "code",
   "execution_count": 10,
   "metadata": {
    "scrolled": true
   },
   "outputs": [],
   "source": [
    "\"\"\"load models\"\"\"\n",
    "modelSpecificConcurrence = load_model(dictModelSpecificConcurrence[str(int(nMeasSettings/2))]+'.h5')\n",
    "\n",
    "modelSpecificMutualInfo = load_model(dictModelSpecificMutualInfo[str(int(nMeasSettings/2))]+'.h5')"
   ]
  },
  {
   "cell_type": "code",
   "execution_count": 11,
   "metadata": {},
   "outputs": [],
   "source": [
    "\"\"\"estimation of the concurrence\"\"\"\n",
    "modelSpecificPredictionConcurrence = modelSpecificConcurrence.predict(probListSpec)\n",
    "\n",
    "\"\"\"estimation of the mutual info.\"\"\"\n",
    "modelSpecificPredictionMutualInfo = modelSpecificMutualInfo.predict(probListSpec)"
   ]
  },
  {
   "cell_type": "code",
   "execution_count": 12,
   "metadata": {},
   "outputs": [],
   "source": [
    "\"\"\"MaxLik predictions\"\"\"\n",
    "rhoML = MLalg(probListSpec[0],identity(4)/4,mub3,10**(-14),100000)\n",
    "\n",
    "mlPredictedConcurrenceSpecificProjs = conc(rhoML)\n",
    "\n",
    "mlPredictedMutualInfoSpecificProjs = mutInf2q(rhoML)"
   ]
  },
  {
   "cell_type": "code",
   "execution_count": 13,
   "metadata": {},
   "outputs": [
    {
     "name": "stdout",
     "output_type": "stream",
     "text": [
      "true value of the concurrence: 0.8501952042874127\n",
      "measurement-specific DNN prediction of the concurrence based on 18 projections: 0.8410978\n",
      "MaxLik prediction of the concurrence: 0.5642774729073535\n"
     ]
    }
   ],
   "source": [
    "print(\"true value of the concurrence:\", conc(rhoT[0]))\n",
    "print(\"measurement-specific DNN prediction of the concurrence based on \"+str(nMeasSettings)+\" projections:\", modelSpecificPredictionConcurrence[0,0])\n",
    "print(\"MaxLik prediction of the concurrence:\", mlPredictedConcurrenceSpecificProjs)"
   ]
  },
  {
   "cell_type": "code",
   "execution_count": 14,
   "metadata": {},
   "outputs": [
    {
     "name": "stdout",
     "output_type": "stream",
     "text": [
      "true value of the mutual info.: 0.7896211270437443\n",
      "measurement-specific DNN prediction of the mutual info. based on 18 projections: 0.79221946\n",
      "MaxLik prediction of the mutual info.: 0.40726577393920166\n"
     ]
    }
   ],
   "source": [
    "print(\"true value of the mutual info.:\", mutInf2q(rhoT[0]))\n",
    "print(\"measurement-specific DNN prediction of the mutual info. based on \"+str(nMeasSettings)+\" projections:\", modelSpecificPredictionMutualInfo[0,0])\n",
    "print(\"MaxLik prediction of the mutual info.:\", mlPredictedMutualInfoSpecificProjs)"
   ]
  },
  {
   "cell_type": "markdown",
   "metadata": {},
   "source": [
    "# Measurement-independent DNN strategy"
   ]
  },
  {
   "cell_type": "code",
   "execution_count": 290,
   "metadata": {},
   "outputs": [],
   "source": [
    "\"\"\"load measurement-independent DNN that predicts concurrence\"\"\"\n",
    "modelConcurrence = load_model('DNNs/bestModelConcHaarv9.h5',compile = False)\n",
    "modelMutualInfo = load_model('DNNs/bestModelMutInfHaarv3.h5',compile = False)"
   ]
  },
  {
   "cell_type": "markdown",
   "metadata": {},
   "source": [
    "## informationally complete data"
   ]
  },
  {
   "cell_type": "code",
   "execution_count": 291,
   "metadata": {},
   "outputs": [],
   "source": [
    "\"\"\"data preparation for the input layer of the measurement-independent DNN\"\"\"\n",
    "x_test = zeros([int(noStates),17*nProj,1])\n",
    "\n",
    "for i in range(nProj):\n",
    "    x_test[0,i*17:i*17+16,0] = blochFromPOMs[i]\n",
    "    x_test[0,16*(i+1)+i,0] = probList[i]\n",
    "\n",
    "modelPredictionConcurrence = modelConcurrence.predict(x = x_test)\n",
    "modelPredictionMutualInfo = modelMutualInfo.predict(x = x_test)"
   ]
  },
  {
   "cell_type": "code",
   "execution_count": 292,
   "metadata": {},
   "outputs": [],
   "source": [
    "\"\"\"MaxLik prediction\"\"\"\n",
    "rhoML = MLalg(probList,identity(4)/4,mub2,10**(-14),100000)\n",
    "mlPredictedConcurrenceComplete = conc(rhoML)\n",
    "mlPredictedMutualInfoComplete = mutInf2q(rhoML)"
   ]
  },
  {
   "cell_type": "code",
   "execution_count": 293,
   "metadata": {},
   "outputs": [
    {
     "name": "stdout",
     "output_type": "stream",
     "text": [
      "true value of the concurrence: 0\n",
      "measurement-independent DNN prediction of the concurrence: 0.32146955\n",
      "MaxLik prediction of the concurrence: 0.09377206654727194\n"
     ]
    }
   ],
   "source": [
    "print(\"true value of the concurrence:\", conc(rhoT[0]))\n",
    "print(\"measurement-independent DNN prediction of the concurrence:\", modelPredictionConcurrence[0,0])\n",
    "print(\"MaxLik prediction of the concurrence:\", mlPredictedConcurrenceComplete)"
   ]
  },
  {
   "cell_type": "code",
   "execution_count": 294,
   "metadata": {},
   "outputs": [
    {
     "name": "stdout",
     "output_type": "stream",
     "text": [
      "true value of the mutual info.: 0.04520325367699435\n",
      "measurement-independent DNN prediction of the mutual info.: 0.9975546\n",
      "MaxLik prediction of the mutual info.: 0.27112508391044354\n"
     ]
    }
   ],
   "source": [
    "print(\"true value of the mutual info.:\", mutInf2q(rhoT[0]))\n",
    "print(\"measurement-independent DNN prediction of the mutual info.:\", modelPredictionMutualInfo[0,0])\n",
    "print(\"MaxLik prediction of the mutual info.:\", mlPredictedMutualInfoComplete)"
   ]
  },
  {
   "cell_type": "markdown",
   "metadata": {},
   "source": [
    "## Informationaly incomplete data"
   ]
  },
  {
   "cell_type": "code",
   "execution_count": 295,
   "metadata": {},
   "outputs": [],
   "source": [
    "\"\"\"pick at random, which tuples of projections will be measured to estimate the concurrence\"\"\"\n",
    "\"\"\"nExc -> number of excluded projectors\"\"\"\n",
    "nExc = 18\n",
    "\n",
    "pomS = ones((36),dtype=int)\n",
    "mub2Exc = mub2\n",
    "probListExc = probList\n",
    "\"\"\"pick at random which projectors will be excluded and replace respective probabilities\n",
    "and measurement describtion with zeros\"\"\"\n",
    "myList=list(range(36))\n",
    "random.shuffle(myList)\n",
    "for i in myList[0:nExc]:\n",
    "    mub2Exc[i] = zeros([4,4],complex)\n",
    "    probListExc[i] = 0\n",
    "\n",
    "blochFromPOMsExc = array([ blochFromRho(mub2Exc[m],GAll) for m in range(nProj) ])\n",
    "\n",
    "\"\"\"We always normalize data before feeding them to the networks\"\"\"\n",
    "probListExcP = probListExc/sum(probListExc)\n",
    "\n",
    "x_test_exc = zeros([int(noStates),17*nProj,1])\n",
    "\n",
    "for i in range(nProj):\n",
    "    x_test_exc[0,i*17:i*17+16,0] = blochFromPOMsExc[i]\n",
    "    x_test_exc[0,16*(i+1)+i,0] = probListExcP[i]\n",
    "    \n",
    "modelPredictionConcurrenceIncomplete = modelConcurrence.predict(x = x_test_exc)\n",
    "modelPredictionMutualInfoIncomplete = modelMutualInfo.predict(x = x_test_exc)"
   ]
  },
  {
   "cell_type": "code",
   "execution_count": 296,
   "metadata": {},
   "outputs": [],
   "source": [
    "rhoML = MLalg(probListExcP,identity(4)/4,mub2Exc,10**(-14),100000)\n",
    "mlPredictedConcurrenceIncomplete = conc(rhoML)\n",
    "mlPredictedMutualInfoInComplete = mutInf2q(rhoML)"
   ]
  },
  {
   "cell_type": "code",
   "execution_count": 297,
   "metadata": {},
   "outputs": [
    {
     "name": "stdout",
     "output_type": "stream",
     "text": [
      "true value of the concurrence: 0\n",
      "measurement-independent DNN prediction of the concurrence with 18 projections missing : 0.632237\n",
      "MaxLik prediction of the concurrence with 18 projections missing : 0.60953864225552\n"
     ]
    }
   ],
   "source": [
    "print(\"true value of the concurrence:\", conc(rhoT[0]))\n",
    "print(\"measurement-independent DNN prediction of the concurrence with \"+str(nExc)+\" projections missing :\", modelPredictionConcurrenceIncomplete[0,0])\n",
    "print(\"MaxLik prediction of the concurrence with \"+str(nExc)+\" projections missing :\", mlPredictedConcurrenceIncomplete)"
   ]
  },
  {
   "cell_type": "code",
   "execution_count": 298,
   "metadata": {},
   "outputs": [
    {
     "name": "stdout",
     "output_type": "stream",
     "text": [
      "true value of the mutual info.: 0.04520325367699435\n",
      "measurement-independent DNN prediction of the mutual info. with 18 projections missing : 0.57210886\n",
      "MaxLik prediction of the mutual info. with 18 projections missing : 0.48036293256097473\n"
     ]
    }
   ],
   "source": [
    "print(\"true value of the mutual info.:\", mutInf2q(rhoT[0]))\n",
    "print(\"measurement-independent DNN prediction of the mutual info. with \"+str(nExc)+\" projections missing :\", modelPredictionMutualInfoIncomplete[0,0])\n",
    "print(\"MaxLik prediction of the mutual info. with \"+str(nExc)+\" projections missing :\", mlPredictedMutualInfoInComplete)"
   ]
  },
  {
   "cell_type": "code",
   "execution_count": 441,
   "metadata": {},
   "outputs": [],
   "source": [
    "pp = [\"h\",\"v\",\"d\",\"a\",\"r\",\"l\"]\n",
    "dictProjs = {}\n",
    "for i in range(6):\n",
    "    for j in range(6):\n",
    "        dictProjs[pp[i]+pp[j]] = kron(mub[i],conjugate(mub[j]))\n",
    "        \n",
    "mub1 = mubpom1()\n",
    "\n",
    "pp1 = [\"h\",\"v\",\"d\",\"r\",]\n",
    "\n",
    "sp1 = array([pp1[i]+pp1[j] for i in range(4) for j in range(4)])"
   ]
  },
  {
   "cell_type": "code",
   "execution_count": 442,
   "metadata": {},
   "outputs": [],
   "source": [
    "specProjs = array([dictProjs['hh'],dictProjs['hv'],dictProjs['vh'],dictProjs['vv'],dictProjs['rh'],dictProjs['rv'],\n",
    "          dictProjs['dv'],dictProjs['dh'],dictProjs['dr'],dictProjs['dd'],dictProjs['rd'],\n",
    "           dictProjs['hd'],dictProjs['vd'],dictProjs['vl'],\n",
    "          dictProjs['hl'],dictProjs['rl']])\n",
    "\n",
    "specProjs1P = array([sp1[i] for i in range(16)])\n",
    "specProjs1 = array([dictProjs[i] for i in specProjs1P])"
   ]
  },
  {
   "cell_type": "code",
   "execution_count": 443,
   "metadata": {},
   "outputs": [
    {
     "data": {
      "text/plain": [
       "array(['hh', 'hv', 'hd', 'hr', 'vh', 'vv', 'vd', 'vr', 'dh', 'dv', 'dd',\n",
       "       'dr', 'rh', 'rv', 'rd', 'rr'], dtype='<U2')"
      ]
     },
     "execution_count": 443,
     "metadata": {},
     "output_type": "execute_result"
    }
   ],
   "source": [
    "specProjs1P"
   ]
  },
  {
   "cell_type": "code",
   "execution_count": 444,
   "metadata": {},
   "outputs": [
    {
     "name": "stdout",
     "output_type": "stream",
     "text": [
      "0.6523184941540509\n",
      "(0.15196490211652153+4.345482307321902e-16j)\n",
      "0.4102345016204771\n",
      "(0.6745441245042906+5.455705331947058e-16j)\n"
     ]
    }
   ],
   "source": [
    "probList = probdists(rhoT[0],specProjs)\n",
    "rhoML = MLalg(probList,identity(4)/4,specProjs,10**(-14),5)\n",
    "print(conc(rhoT[0]))\n",
    "print(trace((rhoT[0]-rhoML)@(rhoT[0]-rhoML)))\n",
    "print(conc(rhoML))\n",
    "print(trace(rhoML@rhoML))"
   ]
  },
  {
   "cell_type": "code",
   "execution_count": 445,
   "metadata": {},
   "outputs": [
    {
     "name": "stdout",
     "output_type": "stream",
     "text": [
      "0.6523184941540509\n",
      "(3.5868192859699345e-09+4.665449809131323e-18j)\n",
      "0.6522426257177887\n",
      "(0.9999030343764472-4.0858809391419726e-14j)\n"
     ]
    }
   ],
   "source": [
    "probList = probdists(rhoT[0],mub2)\n",
    "rhoML = MLalg(probList,identity(4)/4,mub2,10**(-16),1000000)\n",
    "print(conc(rhoT[0]))\n",
    "print(trace((rhoT[0]-rhoML)@(rhoT[0]-rhoML)))\n",
    "print(conc(rhoML))\n",
    "print(trace(rhoML@rhoML))"
   ]
  },
  {
   "cell_type": "code",
   "execution_count": 446,
   "metadata": {},
   "outputs": [
    {
     "name": "stdout",
     "output_type": "stream",
     "text": [
      "0.6523184941540509\n",
      "(0.3915736420089535+7.556889142223966e-16j)\n",
      "0.6032015962671965\n",
      "(0.9999999433703114-9.367506770274758e-17j)\n"
     ]
    }
   ],
   "source": [
    "probList = probdists(rhoT[0],specProjs1)\n",
    "rhoML = MLalg(pr,identity(4)/4,specProjs1,10**(-16),1000000)\n",
    "print(conc(rhoT[0]))\n",
    "print(trace((rhoT[0]-rhoML)@(rhoT[0]-rhoML)))\n",
    "print(conc(rhoML))\n",
    "print(trace(rhoML@rhoML))"
   ]
  },
  {
   "cell_type": "code",
   "execution_count": 404,
   "metadata": {},
   "outputs": [],
   "source": [
    "pomMat = array([ array([trace(specProjs1[i]@G[j]) for i in range(16)]) for j in range(15)])"
   ]
  },
  {
   "cell_type": "code",
   "execution_count": 405,
   "metadata": {},
   "outputs": [],
   "source": [
    "h,s,vh = la.svd(pomMat)"
   ]
  },
  {
   "cell_type": "code",
   "execution_count": 406,
   "metadata": {},
   "outputs": [
    {
     "data": {
      "text/plain": [
       "array([3.02044792, 3.02044792, 2.58873755, 2.13577921, 2.13577921,\n",
       "       2.        , 1.41421356, 1.41421356, 1.41421356, 1.        ,\n",
       "       0.93642638, 0.93642638, 0.66215345, 0.66215345, 0.54629468])"
      ]
     },
     "execution_count": 406,
     "metadata": {},
     "output_type": "execute_result"
    }
   ],
   "source": [
    "s"
   ]
  },
  {
   "cell_type": "code",
   "execution_count": 407,
   "metadata": {},
   "outputs": [
    {
     "data": {
      "text/plain": [
       "array([7.32842712-2.33807621e-16j, 3.5       +3.31354932e-17j,\n",
       "       1.67157288-1.87905931e-16j, 3.5       +0.00000000e+00j])"
      ]
     },
     "execution_count": 407,
     "metadata": {},
     "output_type": "execute_result"
    }
   ],
   "source": [
    "la.eig(sum(specProjs1,axis=0))[0]"
   ]
  },
  {
   "cell_type": "code",
   "execution_count": 352,
   "metadata": {},
   "outputs": [
    {
     "data": {
      "text/plain": [
       "array([[4. +0.j , 1. -0.5j, 1. -1.j , 0. +0.j ],\n",
       "       [1. +0.5j, 4. +0.j , 0.5-0.5j, 1. -1.j ],\n",
       "       [1. +1.j , 0.5+0.5j, 4. +0.j , 1. -0.5j],\n",
       "       [0. +0.j , 1. +1.j , 1. +0.5j, 4. +0.j ]])"
      ]
     },
     "execution_count": 352,
     "metadata": {},
     "output_type": "execute_result"
    }
   ],
   "source": [
    "sum(specProjs,axis=0)"
   ]
  },
  {
   "cell_type": "code",
   "execution_count": 420,
   "metadata": {},
   "outputs": [],
   "source": [
    "pAll = floor(probdists(rhoT[0],mub2)*10000)"
   ]
  },
  {
   "cell_type": "code",
   "execution_count": 422,
   "metadata": {},
   "outputs": [],
   "source": [
    "dictProjs1 = {}\n",
    "for i in range(6):\n",
    "    for j in range(6):\n",
    "        dictProjs1[pp[i]+pp[j]] = pAll[6*i+j]"
   ]
  },
  {
   "cell_type": "code",
   "execution_count": 426,
   "metadata": {},
   "outputs": [],
   "source": [
    "pr = array([dictProjs1[i] for i in specProjs1P])"
   ]
  },
  {
   "cell_type": "code",
   "execution_count": 433,
   "metadata": {},
   "outputs": [
    {
     "data": {
      "text/plain": [
       "array([0.00772975, 0.07271686, 0.05468079, 0.02118523, 0.07586602,\n",
       "       0.16089322, 0.00944747, 0.13856284, 0.04466075, 0.18007443,\n",
       "       0.03320928, 0.07014028, 0.06641855, 0.02891497, 0.00916118,\n",
       "       0.02633839])"
      ]
     },
     "execution_count": 433,
     "metadata": {},
     "output_type": "execute_result"
    }
   ],
   "source": [
    "pr/sum(pr)"
   ]
  },
  {
   "cell_type": "code",
   "execution_count": 435,
   "metadata": {},
   "outputs": [
    {
     "data": {
      "text/plain": [
       "array([0.0070344 , 0.06467279, 0.04872637, 0.05286025, 0.06747432,\n",
       "       0.14284952, 0.00862389, 0.08729901, 0.03978129, 0.15989471,\n",
       "       0.02948751, 0.13740962, 0.05889359, 0.02573871, 0.00819219,\n",
       "       0.06106183])"
      ]
     },
     "execution_count": 435,
     "metadata": {},
     "output_type": "execute_result"
    }
   ],
   "source": [
    "probList"
   ]
  },
  {
   "cell_type": "code",
   "execution_count": 448,
   "metadata": {},
   "outputs": [],
   "source": [
    "cQdot = zeros([100])\n",
    "for k in range(100):\n",
    "    dataQuantDot = loadtxt('experiment/tomo_small.dat')\n",
    "    dataQDot = dataQuantDot[:,1]\n",
    "    dataQDot = random.poisson(dataQDot)\n",
    "    gm = sqrt(multiply(dataQuantDot[:,2],dataQuantDot[:,3]))\n",
    "    dataRenormSingles = divide(dataQDot,gm)\n",
    "    dataRenormSingles = dataRenormSingles/sum(dataRenormSingles)\n",
    "    cQdot[k] = conc(MLalg(dataRenormSingles, identity(4)/4,mub2,10**(-14),100000))\n",
    "\n",
    "print(mean(cQdot))\n",
    "print(std(cQdot))"
   ]
  },
  {
   "cell_type": "code",
   "execution_count": 467,
   "metadata": {},
   "outputs": [
    {
     "name": "stdout",
     "output_type": "stream",
     "text": [
      "0.9845219280512351\n",
      "0.0005396060703718525\n"
     ]
    }
   ],
   "source": [
    "cSPDC1 = zeros([100])\n",
    "for k in range(100):\n",
    "    dataQuantDot = loadtxt('experiment/131030_anal_01_puv.txt',skiprows = 0,usecols=4,max_rows=36)\n",
    "    dataQDot = random.poisson(dataQuantDot)\n",
    "    dataRenormSingles = dataQDot/sum(dataQDot)\n",
    "    cSPDC1[k] = conc(MLalg(dataRenormSingles, identity(4)/4,mub2,10**(-14),100000))\n",
    "\n",
    "print(mean(cSPDC1))\n",
    "print(std(cSPDC1))"
   ]
  },
  {
   "cell_type": "code",
   "execution_count": 468,
   "metadata": {},
   "outputs": [
    {
     "name": "stdout",
     "output_type": "stream",
     "text": [
      "0.2006790799049832\n",
      "0.002422820309252778\n"
     ]
    }
   ],
   "source": [
    "cSPDC8 = zeros([100])\n",
    "for k in range(100):\n",
    "    dataQuantDot = loadtxt('experiment/131104_anal_33ent_su,TERM1700k_40ns.txt',skiprows = 0,usecols=4,max_rows=36)\n",
    "    dataQDot = random.poisson(dataQuantDot)\n",
    "    dataRenormSingles = dataQDot/sum(dataQDot)\n",
    "    cSPDC8[k] = conc(MLalg(dataRenormSingles, identity(4)/4,mub2,10**(-14),100000))\n",
    "\n",
    "print(mean(cSPDC8))\n",
    "print(std(cSPDC8))"
   ]
  },
  {
   "cell_type": "code",
   "execution_count": 465,
   "metadata": {},
   "outputs": [
    {
     "data": {
      "text/plain": [
       "array([  398., 43835., 23394., 20050., 21774., 21187., 43093.,   374.,\n",
       "       19156., 22833., 21243., 23791., 18767., 24619.,   331., 42906.,\n",
       "       21576., 20385., 23620., 18776., 43656.,   256., 20470., 24200.,\n",
       "       19661., 21210., 20016., 20909.,   244., 43372., 22547., 24633.,\n",
       "       24464., 21988., 43096.,   268.])"
      ]
     },
     "execution_count": 465,
     "metadata": {},
     "output_type": "execute_result"
    }
   ],
   "source": [
    "loadtxt('experiment/131030_anal_01_puv.txt',skiprows = 0,usecols=4,max_rows=36)"
   ]
  },
  {
   "cell_type": "code",
   "execution_count": null,
   "metadata": {},
   "outputs": [],
   "source": []
  }
 ],
 "metadata": {
  "kernelspec": {
   "display_name": "Python 3 (ipykernel)",
   "language": "python",
   "name": "python3"
  },
  "language_info": {
   "codemirror_mode": {
    "name": "ipython",
    "version": 3
   },
   "file_extension": ".py",
   "mimetype": "text/x-python",
   "name": "python",
   "nbconvert_exporter": "python",
   "pygments_lexer": "ipython3",
   "version": "3.9.12"
  }
 },
 "nbformat": 4,
 "nbformat_minor": 2
}

{
 "cells": [
  {
   "cell_type": "markdown",
   "metadata": {},
   "source": [
    "# Predict the concurrence or the mutual information for whatever two-qubit quantum state you want"
   ]
  },
  {
   "cell_type": "code",
   "execution_count": null,
   "metadata": {},
   "outputs": [],
   "source": [
    "\"\"\"DNNs will run on GPU if enabled\"\"\"\n",
    "import os\n",
    "os.environ[\"CUDA_DEVICE_ORDER\"] = \"PCI_BUS_ID\"\n",
    "os.environ[\"CUDA_VISIBLE_DEVICES\"] = \"\""
   ]
  },
  {
   "cell_type": "code",
   "execution_count": null,
   "metadata": {},
   "outputs": [],
   "source": [
    "from numpy import *\n",
    "from numpy import linalg as la\n",
    "from scipy import linalg as sa"
   ]
  },
  {
   "cell_type": "code",
   "execution_count": null,
   "metadata": {},
   "outputs": [],
   "source": [
    "import numba\n",
    "from numba import jit, njit, objmode"
   ]
  },
  {
   "cell_type": "code",
   "execution_count": null,
   "metadata": {},
   "outputs": [],
   "source": [
    "import cvxpy as cp"
   ]
  },
  {
   "cell_type": "code",
   "execution_count": null,
   "metadata": {},
   "outputs": [],
   "source": [
    "import keras\n",
    "from keras import optimizers\n",
    "from keras import initializers\n",
    "from keras.models import Sequential\n",
    "from tensorflow.keras.models import load_model\n",
    "from keras.layers import Dense, Dropout, Activation, Conv1D, Flatten, Reshape, AveragePooling1D,UpSampling1D\n",
    "from keras.callbacks import ReduceLROnPlateau, ModelCheckpoint"
   ]
  },
  {
   "cell_type": "code",
   "execution_count": null,
   "metadata": {},
   "outputs": [],
   "source": [
    "\"\"\"generate a rank-r quantum state\"\"\"\n",
    "\n",
    "def randomHaarState(dim,rank):\n",
    "    A = random.normal(0,1,(dim,dim))+1j*random.normal(0,1,(dim,dim))\n",
    "    q,r = la.qr(A,mode='complete')\n",
    "    r  = divide(diagonal(r),abs(diagonal(r)))*identity(dim)\n",
    "    rU = q@r\n",
    "    B = random.normal(0,1,(dim,rank))+1j*random.normal(0,1,(dim,rank))\n",
    "    B = B@B.T.conj()\n",
    "    rho = (identity(dim)+rU)@B@(identity(dim)+rU.T.conj())\n",
    "    return rho/trace(rho)\n",
    "\n",
    "\"\"\"generate a random Haar pure state\"\"\"\n",
    "def randompure(dim,n):\n",
    "    rpure = random.normal(0,1,[dim,n]) + 1j*random.normal(0,1,[dim,n])\n",
    "    rpure = rpure/la.norm(rpure,axis=0)\n",
    "    rhon = array([dot(rpure[:,[i]],rpure[:,[i]].conjugate().transpose())  for i in range(n)])\n",
    "#     rhon = reshape(rhon,[n,4])\n",
    "    return rhon\n",
    "\n",
    "\"\"\"1-qubit Pauli projectors\"\"\"\n",
    "def mubpom():\n",
    "    p1 = array([1,0])\n",
    "    p2 = array([0,1])\n",
    "    mub = zeros([6,1,2])+1j*zeros([6,1,2])\n",
    "    mub[0] = p1\n",
    "    mub[1] = p2\n",
    "    mub[2] = 1/sqrt(2)*(p1+p2)\n",
    "    mub[3] = 1/sqrt(2)*(p1-p2)\n",
    "    mub[4] = 1/sqrt(2)*(p1+1j*p2)\n",
    "    mub[5] = 1/sqrt(2)*(p1-1j*p2)\n",
    "    mubp = [transpose(mub[i])@conjugate(mub[i]) for i in range(6)]\n",
    "    return mubp\n",
    "\n",
    "def mubpom1():\n",
    "    p1 = array([1,0])\n",
    "    p2 = array([0,1])\n",
    "    mub = zeros([4,1,2])+1j*zeros([4,1,2])\n",
    "    mub[0] = p1\n",
    "    mub[1] = p2\n",
    "    mub[2] = 1/sqrt(2)*(p1+p2)\n",
    "    mub[3] = 1/sqrt(2)*(p1+1j*p2)\n",
    "    mubp = [transpose(mub[i])@conjugate(mub[i]) for i in range(4)]\n",
    "    return mubp\n",
    "\n",
    "def blochFromRho(rho,A):\n",
    "    l = shape(A)[0]\n",
    "    return array([ real(trace(rho@A[n])) for n in range(l) ])\n",
    "\n",
    "\"\"\"get probabilities from quantum state rho0 and POVM\"\"\"\n",
    "def probdists(rho0,povm):\n",
    "    l = shape(povm)[0]\n",
    "    probtrue = array([real(trace(rho0@povm[i])) for i in range(l)])\n",
    "    probtrue = probtrue/sum(probtrue)\n",
    "    return probtrue\n",
    "\n",
    "def herbasis(dim):\n",
    "    pom1 = zeros([1,dim,dim])+1j*zeros([1,dim,dim])\n",
    "    pom1[0] = identity(dim)\n",
    "    arrays = [dot(transpose(pom1[0][[i]]),pom1[0][[i]]) for i in range(dim-1)]\n",
    "    pom = stack(arrays,axis=0)\n",
    "    her = concatenate((pom1,pom),axis=0)\n",
    "    arrays = [dot(transpose(her[0][[i]]),her[0][[j]])+dot(transpose(her[0][[j]]),her[0][[i]]) for i in range(dim) for j in range(i+1,dim)]\n",
    "    pom = stack(arrays,axis=0)\n",
    "    her = concatenate((her,pom),axis=0)\n",
    "    arrays = [-1j*dot(transpose(her[0][[i]]),her[0][[j]])+1j*dot(transpose(her[0][[j]]),her[0][[i]]) for i in range(dim) for j in range(i+1,dim)]\n",
    "    pom = stack(arrays,axis=0)\n",
    "    pom = concatenate((her,pom),axis=0)\n",
    "    return pom\n",
    "\n",
    "def gellmann(Q,dim):\n",
    "    q = zeros([dim**2,dim,dim])+1j*zeros([dim**2,dim,dim])\n",
    "    for i in range(dim**2):\n",
    "        v = Q[i]\n",
    "        for j in range(0,i):\n",
    "            v = v-trace(v@q[j])*q[j]\n",
    "        q[i] = v/sqrt(trace(v@v))\n",
    "    return q\n",
    "\n",
    "def pauli():\n",
    "    s = zeros([3,2,2]) +1j*zeros([3,2,2])\n",
    "    s[0] = array([[1, 0],[0, -1]])\n",
    "    s[1] = array([[0, 1],[ 1, 0]])\n",
    "    s[2] = array([[0, -1j],[1j, 0]])\n",
    "    return s\n",
    "\n",
    "\"\"\"concurrence\"\"\"\n",
    "def conc(A):\n",
    "    s = pauli()\n",
    "    s2 = kron(s[2],s[2])\n",
    "    At = (s2@conjugate(A))@s2\n",
    "    As = sa.sqrtm(A)\n",
    "    R = sa.sqrtm((As@At)@As)\n",
    "    eigval = real(sort(la.eig(R)[0])[::-1])\n",
    "    return max(0,eigval[0]-(eigval[1]+eigval[2]+eigval[3]))\n",
    "\n",
    "def parTrB(rho):\n",
    "    rhoN = zeros([2,2])+1j*zeros([2,2])\n",
    "    rhoN[0,0]=rho[0,0]+rho[1,1]\n",
    "    rhoN[0,1]=rho[0,2]+rho[1,3]\n",
    "    rhoN[1,0]=rho[2,0]+rho[3,1]\n",
    "    rhoN[1,1]=rho[2,2]+rho[3,3]\n",
    "    return rhoN\n",
    "\n",
    "def parTrA(rho):\n",
    "    rhoN = zeros([2,2])+1j*zeros([2,2])\n",
    "    rhoN[0,0]=rho[0,0]+rho[2,2]\n",
    "    rhoN[0,1]=rho[0,1]+rho[2,3]\n",
    "    rhoN[1,0]=rho[1,0]+rho[3,2]\n",
    "    rhoN[1,1]=rho[1,1]+rho[3,3]\n",
    "    return rhoN\n",
    "\n",
    "\"\"\"two-qubit mutual information\"\"\"\n",
    "def mutInf2q(rho):\n",
    "    rA = parTrB(rho)\n",
    "    rB = parTrA(rho)\n",
    "    return real( 1/2*(-trace(rA@myLog(rA))-trace(rB@myLog(rB)) + trace(rho@myLog(rho))) )\n",
    "\n",
    "def Cmat(pom,G):\n",
    "    global dim\n",
    "    l = shape(pom)[0]\n",
    "    matC = zeros((shape(pom)[0],dim**2))\n",
    "    for m in range(l):\n",
    "        for n in range(dim**2):\n",
    "            matC[m,n]=trace(pom[m]@G[n])\n",
    "    return 1/dim*matC\n",
    "\n",
    "def myLog(M):\n",
    "    U,S,VT = la.svd(M)\n",
    "    for n in range(shape(S)[0]):\n",
    "        if S[n]<10**(-14):\n",
    "            S[n] = 1\n",
    "    D = diag(log2(S))\n",
    "    return (U@D)@VT\n",
    "\n",
    "\n",
    "def myLogE(M):\n",
    "    U,S,VT = la.svd(M)\n",
    "    for n in range(shape(S)[0]):\n",
    "        if S[n]<10**(-14):\n",
    "            S[n] = 1\n",
    "    D = diag(log(S))\n",
    "    return (U@D)@VT\n",
    "\n",
    "\"\"\"regularized MaxLik algorithm\"\"\"\n",
    "@jit(nopython=True)\n",
    "def MLalgReg(data,povm,G):\n",
    "    epsilon = 10**(-16)\n",
    "    stop = 10**7\n",
    "    rhoinit = identity(dim,numba.complex128)/dim\n",
    "    rho = rhoinit\n",
    "    trdist = 9999.9\n",
    "    k = 0\n",
    "    l = shape(povm)[0]\n",
    "    while trdist > epsilon and k<stop:\n",
    "        R = zeros((dim,dim),dtype=numba.complex128)\n",
    "        prob = array([real(trace(dot(rho,povm[i]))) for i in range(l)])\n",
    "        for i in range(l):\n",
    "            if prob[i]>10**(-12):\n",
    "                R += data[i]/prob[i]*povm[i]\n",
    "        rhonew = dot(dot(G,dot(R,rho)),dot(R,G))\n",
    "#         rhonew = dot(dot(R,rho),R)\n",
    "        rhonew = rhonew/trace(rhonew)\n",
    "        rhoDif = rho - rhonew\n",
    "        trdist = real(  trace( dot( rhoDif , transpose(conjugate(rhoDif)) ) ) )\n",
    "        rho = rhonew\n",
    "        k+=1\n",
    "    return rho\n",
    "\n",
    "\"\"\"MLME algorithm\"\"\"\n",
    "def MLMEalg(data,povm):\n",
    "    epsilon = 10**(-16)\n",
    "    stop = 10**7\n",
    "    lam = 10**(-4)\n",
    "    rhoinit = identity(dim,complex)/dim\n",
    "    rho = rhoinit\n",
    "    trdist = 9999.9\n",
    "    k = 0\n",
    "    l = shape(povm)[0]\n",
    "    while trdist > epsilon and k<stop:\n",
    "        R = zeros((dim,dim),complex)\n",
    "        prob = array([real(trace(dot(rho,povm[i]))) for i in range(l)])\n",
    "        for i in range(l):\n",
    "            if prob[i]>10**(-12):\n",
    "                R += data[i]/prob[i]*povm[i]\n",
    "        T = R - lam*(myLogE(rho)-identity(4)*trace(rho@myLogE(rho)))\n",
    "        rhonew = dot(dot(T,rho),T)\n",
    "        rhonew = rhonew/trace(rhonew)\n",
    "        rhoDif = rho - rhonew\n",
    "        trdist = real( trace( dot( rhoDif , transpose(conjugate(rhoDif)) ) ) )\n",
    "        rho = rhonew\n",
    "        k+=1\n",
    "    return rho"
   ]
  },
  {
   "cell_type": "code",
   "execution_count": null,
   "metadata": {},
   "outputs": [],
   "source": [
    "\"\"\"define the basis in the n-dimensional Hilbert space\"\"\"\n",
    "dim = 4\n",
    "noStates = 1\n",
    "nProj = 36\n",
    "Q = herbasis(dim)\n",
    "GAll = gellmann(Q,dim)*sqrt(dim)\n",
    "G = GAll[1::]"
   ]
  },
  {
   "cell_type": "code",
   "execution_count": null,
   "metadata": {},
   "outputs": [],
   "source": [
    "\"\"\"define Pauli projectors for two-qubit system\"\"\"\n",
    "mub = mubpom()\n",
    "mub2 = array([kron(mub[i],mub[j])/9 for i in range(6) for j in range(6) ])\n",
    "\n",
    "blochFromPOMs = array([ blochFromRho(mub2[m],GAll) for m in range(nProj) ])"
   ]
  },
  {
   "cell_type": "code",
   "execution_count": null,
   "metadata": {},
   "outputs": [],
   "source": [
    "\"\"\"generate a random pure two-qubit state\"\"\"\n",
    "rhoT = randompure(dim,noStates);\n",
    "\n",
    "# p = 0.8\n",
    "# rhoT = [p*kron(randompure(2,1)[0],randompure(2,1)[0])+(1-p)/4*identity(dim)]\n",
    "\n",
    "\n",
    "\n",
    "\"\"\"add some noise if you want\"\"\"\n",
    "p = 1\n",
    "rhoT = p*rhoT + (1-p)/4*identity(dim)\n",
    "\n",
    "\"\"\"generate a random rank-r state with respect to the Bures measure\"\"\"\n",
    "# rank = 1\n",
    "# rhoT = randomHaarState(dim,dim)\n",
    "\n",
    "\"\"\"calculate the full probability distribution\"\"\"\n",
    "probList = probdists(rhoT[0],mub2)\n",
    "\n",
    "\"\"\"check the true value of the concurrence, mutual information and purity\"\"\"\n",
    "print(conc(rhoT[0]))\n",
    "print(mutInf2q(rhoT[0]))\n",
    "print(trace(rhoT[0]@rhoT[0]))"
   ]
  },
  {
   "cell_type": "markdown",
   "metadata": {},
   "source": [
    "# Measurement-specific strategy"
   ]
  },
  {
   "cell_type": "code",
   "execution_count": null,
   "metadata": {},
   "outputs": [],
   "source": [
    "\"\"\"load trained measurement-specific DNNs\"\"\"\n",
    "nProjAll = 19\n",
    "pom = array(range(1,nProjAll))\n",
    "\n",
    "\"\"\"Each model is trained for the specific set of projector,\n",
    "we trained DNNs for five different sets, load one of them, nR = 0,1,2,3,4\"\"\"\n",
    "nR = 0\n",
    "\n",
    "\"\"\"choose the number of measurement settings, from 2 to 36, only even numbers\"\"\"\n",
    "nMeasSettings = 18\n",
    "\n",
    "file1 = load(\"spec_pauli_projections/PauliR\"+str(nR)+str(nMeasSettings)+\".npz\")\n",
    "mub3 = file1['mub3']\n",
    "\n",
    "\"\"\"definition of the vocabulary of measurement-specific models\"\"\"\n",
    "dictModelSpecificConcurrence={}\n",
    "for k in pom:\n",
    "    dictModelSpecificConcurrence[str(k)]=\"spec_net_conc_R\"+str(nR)+\"/bestModelPauliConcProjR\"+str(nR)+\"v7\"+str(2*k)\n",
    "    \n",
    "dictModelSpecificMutualInfo={}\n",
    "for k in pom:\n",
    "    dictModelSpecificMutualInfo[str(k)]=\"spec_net_MI_R0/bestModelPauliMIProjR0v6\"+str(2*k)    \n"
   ]
  },
  {
   "cell_type": "code",
   "execution_count": null,
   "metadata": {},
   "outputs": [],
   "source": [
    "\"\"\"get the data\"\"\"\n",
    "probList = probdists(rhoT[0],mub3)\n",
    "probListSpec = reshape(probList,(1,nMeasSettings))"
   ]
  },
  {
   "cell_type": "code",
   "execution_count": null,
   "metadata": {
    "scrolled": true
   },
   "outputs": [],
   "source": [
    "\"\"\"load models\"\"\"\n",
    "modelSpecificConcurrence = load_model(dictModelSpecificConcurrence[str(int(nMeasSettings/2))]+'.h5')\n",
    "\n",
    "modelSpecificMutualInfo = load_model(dictModelSpecificMutualInfo[str(int(nMeasSettings/2))]+'.h5')"
   ]
  },
  {
   "cell_type": "code",
   "execution_count": null,
   "metadata": {},
   "outputs": [],
   "source": [
    "\"\"\"estimation of the concurrence\"\"\"\n",
    "modelSpecificPredictionConcurrence = modelSpecificConcurrence.predict(probListSpec)\n",
    "\n",
    "\"\"\"estimation of the mutual info.\"\"\"\n",
    "modelSpecificPredictionMutualInfo = modelSpecificMutualInfo.predict(probListSpec)"
   ]
  },
  {
   "cell_type": "code",
   "execution_count": null,
   "metadata": {},
   "outputs": [],
   "source": [
    "\"\"\"MaxLik predictions\"\"\"\n",
    "G = sa.sqrtm(sum(mub3,axis=0))\n",
    "\n",
    "rhoML = MLalgReg(probListSpec[0],mub3,G)\n",
    "\n",
    "mlPredictedConcurrenceSpecificProjs = conc(rhoML)\n",
    "\n",
    "mlPredictedMutualInfoSpecificProjs = mutInf2q(rhoML)"
   ]
  },
  {
   "cell_type": "code",
   "execution_count": null,
   "metadata": {},
   "outputs": [],
   "source": [
    "\"\"\"MLME predictions\"\"\"\n",
    "rhoMLME = MLMEalg(probListSpec[0],mub3)\n",
    "\n",
    "mlmePredictedConcurrenceSpecificProjs = conc(rhoMLME)\n",
    "\n",
    "mlmePredictedMutualInfoSpecificProjs = mutInf2q(rhoMLME)"
   ]
  },
  {
   "cell_type": "code",
   "execution_count": null,
   "metadata": {},
   "outputs": [],
   "source": [
    "\"\"\"get the measurement matrix C\"\"\"\n",
    "cmat = Cmat(mub3,GAll)\n",
    "\n",
    "\"\"\"SDP prediction\"\"\"\n",
    "x = cp.Variable(dim**2)\n",
    "constraints = [rhoFromBlochG(x,GAll)>>0]\n",
    "constraints += [cp.trace(rhoFromBlochG(x,GAll))==1]\n",
    "prob = cp.Problem(cp.Minimize(cp.sum_squares((cmat@x)-probD)),constraints)\n",
    "prob.solve()\n",
    "solSDP = x.value\n",
    "\n",
    "rhoSDP = rhoFromBlochG(solSDP, GAll)\n",
    "SDPPredictedConcurrenceIC = conc(rhoSDP)\n",
    "SDPPredictedMutInfIC = mutInf2q(rhoSDP)"
   ]
  },
  {
   "cell_type": "code",
   "execution_count": null,
   "metadata": {},
   "outputs": [],
   "source": [
    "print(\"true value of the concurrence:\", conc(rhoT[0]))\n",
    "print(\"measurement-specific DNN prediction of the concurrence based on \"+str(nMeasSettings)+\" projections:\", modelSpecificPredictionConcurrence[0,0])\n",
    "print(\"MaxLik prediction of the concurrence:\", mlPredictedConcurrenceSpecificProjs)\n",
    "print(\"MLME prediction of the concurrence:\", mlmePredictedConcurrenceSpecificProjs)\n",
    "print(\"SDP prediction of the concurrence:\", SDPPredictedConcurrenceIC)"
   ]
  },
  {
   "cell_type": "code",
   "execution_count": null,
   "metadata": {},
   "outputs": [],
   "source": [
    "print(\"true value of the mutual info.:\", mutInf2q(rhoT[0]))\n",
    "print(\"measurement-specific DNN prediction of the mutual info. based on \"+str(nMeasSettings)+\" projections:\", modelSpecificPredictionMutualInfo[0,0])\n",
    "print(\"MaxLik prediction of the mutual info.:\", mlPredictedMutualInfoSpecificProjs)\n",
    "print(\"MLME prediction of the mutual info.:\", mlmePredictedMutualInfoSpecificProjs)\n",
    "print(\"SDP prediction of the mutual information:\", SDPPredictedMutInfIC)"
   ]
  },
  {
   "cell_type": "markdown",
   "metadata": {},
   "source": [
    "# Measurement-independent DNN strategy"
   ]
  },
  {
   "cell_type": "code",
   "execution_count": null,
   "metadata": {},
   "outputs": [],
   "source": [
    "\"\"\"load measurement-independent DNN that predicts concurrence\"\"\"\n",
    "modelConcurrence = load_model('modelConcurrence.h5',compile = False)\n",
    "modelMutualInfo = load_model('modelMI.h5',compile = False)"
   ]
  },
  {
   "cell_type": "markdown",
   "metadata": {},
   "source": [
    "## informationally complete data"
   ]
  },
  {
   "cell_type": "code",
   "execution_count": null,
   "metadata": {},
   "outputs": [],
   "source": [
    "\"\"\"data preparation for the input layer of the measurement-independent DNN\"\"\"\n",
    "x_test = zeros([int(noStates),17*nProj,1])\n",
    "\n",
    "for i in range(nProj):\n",
    "    x_test[0,i*17:i*17+16,0] = blochFromPOMs[i]\n",
    "    x_test[0,16*(i+1)+i,0] = probList[i]\n",
    "\n",
    "modelPredictionConcurrence = modelConcurrence.predict(x = x_test)\n",
    "modelPredictionMutualInfo = modelMutualInfo.predict(x = x_test)"
   ]
  },
  {
   "cell_type": "code",
   "execution_count": null,
   "metadata": {},
   "outputs": [],
   "source": [
    "\"\"\"MaxLik prediction\"\"\"\n",
    "G = sa.sqrtm(sum(mub2,axis=0))\n",
    "rhoML = MLalgReg(probList,mub2,G)\n",
    "mlPredictedConcurrenceComplete = conc(rhoML)\n",
    "mlPredictedMutualInfoComplete = mutInf2q(rhoML)"
   ]
  },
  {
   "cell_type": "code",
   "execution_count": null,
   "metadata": {},
   "outputs": [],
   "source": [
    "print(\"true value of the concurrence:\", conc(rhoT[0]))\n",
    "print(\"measurement-independent DNN prediction of the concurrence:\", modelPredictionConcurrence[0,0])\n",
    "print(\"MaxLik prediction of the concurrence:\", mlPredictedConcurrenceComplete)"
   ]
  },
  {
   "cell_type": "code",
   "execution_count": null,
   "metadata": {},
   "outputs": [],
   "source": [
    "print(\"true value of the mutual info.:\", mutInf2q(rhoT[0]))\n",
    "print(\"measurement-independent DNN prediction of the mutual info.:\", modelPredictionMutualInfo[0,0])\n",
    "print(\"MaxLik prediction of the mutual info.:\", mlPredictedMutualInfoComplete)"
   ]
  },
  {
   "cell_type": "markdown",
   "metadata": {},
   "source": [
    "## Informationaly incomplete data"
   ]
  },
  {
   "cell_type": "code",
   "execution_count": null,
   "metadata": {},
   "outputs": [],
   "source": [
    "\"\"\"pick at random, which tuples of projections will be measured to estimate the concurrence\"\"\"\n",
    "\"\"\"nExc -> number of excluded projectors\"\"\"\n",
    "nExc = 18\n",
    "\n",
    "pomS = ones((36),dtype=int)\n",
    "mub2Exc = mub2\n",
    "probListExc = probList\n",
    "\"\"\"pick at random which projectors will be excluded and replace respective probabilities\n",
    "and measurement describtion with zeros\"\"\"\n",
    "myList=list(range(36))\n",
    "random.shuffle(myList)\n",
    "for i in myList[0:nExc]:\n",
    "    mub2Exc[i] = zeros([4,4],complex)\n",
    "    probListExc[i] = 0\n",
    "\n",
    "blochFromPOMsExc = array([ blochFromRho(mub2Exc[m],GAll) for m in range(nProj) ])\n",
    "\n",
    "\"\"\"We always normalize data before feeding them to the networks\"\"\"\n",
    "probListExcP = probListExc/sum(probListExc)\n",
    "\n",
    "x_test_exc = zeros([int(noStates),17*nProj,1])\n",
    "\n",
    "for i in range(nProj):\n",
    "    x_test_exc[0,i*17:i*17+16,0] = blochFromPOMsExc[i]\n",
    "    x_test_exc[0,16*(i+1)+i,0] = probListExcP[i]\n",
    "    \n",
    "modelPredictionConcurrenceIncomplete = modelConcurrence.predict(x = x_test_exc)\n",
    "modelPredictionMutualInfoIncomplete = modelMutualInfo.predict(x = x_test_exc)"
   ]
  },
  {
   "cell_type": "code",
   "execution_count": null,
   "metadata": {},
   "outputs": [],
   "source": [
    "G = sa.sqrtm(sum(mub2Exc,axis=0))\n",
    "rhoML = MLalgReg(probListExcP,mub2Exc,G)\n",
    "mlPredictedConcurrenceIncomplete = conc(rhoML)\n",
    "mlPredictedMutualInfoInComplete = mutInf2q(rhoML)"
   ]
  },
  {
   "cell_type": "code",
   "execution_count": null,
   "metadata": {},
   "outputs": [],
   "source": [
    "print(\"true value of the concurrence:\", conc(rhoT[0]))\n",
    "print(\"measurement-independent DNN prediction of the concurrence with \"+str(nExc)+\" projections missing :\", modelPredictionConcurrenceIncomplete[0,0])\n",
    "print(\"MaxLik prediction of the concurrence with \"+str(nExc)+\" projections missing :\", mlPredictedConcurrenceIncomplete)"
   ]
  },
  {
   "cell_type": "code",
   "execution_count": null,
   "metadata": {},
   "outputs": [],
   "source": [
    "print(\"true value of the mutual info.:\", mutInf2q(rhoT[0]))\n",
    "print(\"measurement-independent DNN prediction of the mutual info. with \"+str(nExc)+\" projections missing :\", modelPredictionMutualInfoIncomplete[0,0])\n",
    "print(\"MaxLik prediction of the mutual info. with \"+str(nExc)+\" projections missing :\", mlPredictedMutualInfoInComplete)"
   ]
  },
  {
   "cell_type": "markdown",
   "metadata": {},
   "source": [
    "# More qubits"
   ]
  },
  {
   "cell_type": "markdown",
   "metadata": {},
   "source": [
    "## Estimation of the mutual information matrix for four qubits using DNN and MaxLik"
   ]
  },
  {
   "cell_type": "code",
   "execution_count": null,
   "metadata": {},
   "outputs": [],
   "source": [
    "from MI_funcs import mutInf4q"
   ]
  },
  {
   "cell_type": "code",
   "execution_count": null,
   "metadata": {},
   "outputs": [],
   "source": [
    "dim = 16"
   ]
  },
  {
   "cell_type": "code",
   "execution_count": null,
   "metadata": {},
   "outputs": [],
   "source": [
    "rhoT = randompure(dim,1);"
   ]
  },
  {
   "cell_type": "code",
   "execution_count": null,
   "metadata": {},
   "outputs": [],
   "source": [
    "projs = load(\"325proj.npz\")\n",
    "mub4Exc = projs['mub2Exc']\n",
    "\n",
    "Gs = sa.pinv(sa.fractional_matrix_power(sum(mub4Exc,axis=0),1/2))"
   ]
  },
  {
   "cell_type": "code",
   "execution_count": null,
   "metadata": {},
   "outputs": [],
   "source": [
    "probD = probdists(rhoT[0],mub4Exc)"
   ]
  },
  {
   "cell_type": "code",
   "execution_count": null,
   "metadata": {},
   "outputs": [],
   "source": [
    "MI4qTrue = mutInf4q(rhoT[0])"
   ]
  },
  {
   "cell_type": "code",
   "execution_count": null,
   "metadata": {},
   "outputs": [],
   "source": [
    "\"\"\"the maximum likelihood estimate of the four-qubit density matrix, might take a sec\"\"\"\n",
    "\n",
    "rhoML = MLalgReg(probD,mub4Exc,Gs)\n",
    "\n",
    "MI4qML = mutInf4q(rhoML)"
   ]
  },
  {
   "cell_type": "code",
   "execution_count": null,
   "metadata": {},
   "outputs": [],
   "source": [
    "bestModel = load_model('bestModelMI4q325proj.h5')"
   ]
  },
  {
   "cell_type": "code",
   "execution_count": null,
   "metadata": {},
   "outputs": [],
   "source": [
    "\"\"\"the DNN estimate of the four-qubit density matrix\"\"\"\n",
    "\n",
    "MI4qDNN = bestModel.predict(x = reshape(probD,(1,325)))"
   ]
  },
  {
   "cell_type": "code",
   "execution_count": null,
   "metadata": {},
   "outputs": [],
   "source": [
    "print(\"vector of true values of the mutual info.:\", MI4qTrue)\n",
    "print(\"MaxLik predictions of values of the mutual info.:\", MI4qML)\n",
    "print(\"DNN predictions of values of the mutual info.:\", MI4qDNN)"
   ]
  },
  {
   "cell_type": "markdown",
   "metadata": {},
   "source": [
    "## Estimation of the mutual information matrix for five qubits using DNN and MaxLik"
   ]
  },
  {
   "cell_type": "code",
   "execution_count": null,
   "metadata": {},
   "outputs": [],
   "source": [
    "from MI_funcs import mutInf5q"
   ]
  },
  {
   "cell_type": "code",
   "execution_count": null,
   "metadata": {},
   "outputs": [],
   "source": [
    "dim = 32"
   ]
  },
  {
   "cell_type": "code",
   "execution_count": null,
   "metadata": {},
   "outputs": [],
   "source": [
    "rhoT = randompure(dim,1);"
   ]
  },
  {
   "cell_type": "code",
   "execution_count": null,
   "metadata": {},
   "outputs": [],
   "source": [
    "projs = load(\"1944projv2.npz\")\n",
    "mub5Exc = projs['mub5Exc']\n",
    "\n",
    "Gs = sa.pinv(sa.fractional_matrix_power(sum(mub5Exc,axis=0),1/2))"
   ]
  },
  {
   "cell_type": "code",
   "execution_count": null,
   "metadata": {},
   "outputs": [],
   "source": [
    "probD = probdists(rhoT[0],mub5Exc)"
   ]
  },
  {
   "cell_type": "code",
   "execution_count": null,
   "metadata": {},
   "outputs": [],
   "source": [
    "MI5qTrue = mutInf5q(rhoT[0])"
   ]
  },
  {
   "cell_type": "code",
   "execution_count": null,
   "metadata": {},
   "outputs": [],
   "source": [
    "\"\"\"the maximum likelihood estimate of the four-qubit density matrix, might take a minute\"\"\"\n",
    "\n",
    "rhoML = MLalgReg(probD,mub5Exc,Gs)\n",
    "\n",
    "MI5qML = mutInf5q(rhoML)"
   ]
  },
  {
   "cell_type": "code",
   "execution_count": null,
   "metadata": {},
   "outputs": [],
   "source": [
    "bestModel = load_model('bestModelMI5q1944projv2.h5')"
   ]
  },
  {
   "cell_type": "code",
   "execution_count": null,
   "metadata": {},
   "outputs": [],
   "source": [
    "\"\"\"the DNN estimate of the four-qubit density matrix\"\"\"\n",
    "\n",
    "MI5qDNN = bestModel.predict(x = reshape(probD,(1,1944)))"
   ]
  },
  {
   "cell_type": "code",
   "execution_count": null,
   "metadata": {},
   "outputs": [],
   "source": [
    "print(\"vector of true values of the mutual info.:\", MI5qTrue)\n",
    "# print(\"MaxLik predictions of values of the mutual info.:\", MI5qML)\n",
    "print(\"DNN predictions of values of the mutual info.:\", MI5qDNN)"
   ]
  },
  {
   "cell_type": "code",
   "execution_count": null,
   "metadata": {},
   "outputs": [],
   "source": []
  }
 ],
 "metadata": {
  "kernelspec": {
   "display_name": "Python 3 (ipykernel)",
   "language": "python",
   "name": "python3"
  },
  "language_info": {
   "codemirror_mode": {
    "name": "ipython",
    "version": 3
   },
   "file_extension": ".py",
   "mimetype": "text/x-python",
   "name": "python",
   "nbconvert_exporter": "python",
   "pygments_lexer": "ipython3",
   "version": "3.9.12"
  }
 },
 "nbformat": 4,
 "nbformat_minor": 2
}
